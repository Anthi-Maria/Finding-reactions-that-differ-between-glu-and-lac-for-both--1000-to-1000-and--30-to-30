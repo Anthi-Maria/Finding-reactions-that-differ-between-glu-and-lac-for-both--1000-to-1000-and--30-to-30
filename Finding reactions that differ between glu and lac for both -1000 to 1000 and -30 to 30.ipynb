{
 "cells": [
  {
   "cell_type": "code",
   "execution_count": 1,
   "id": "d0d8c02d",
   "metadata": {},
   "outputs": [
    {
     "name": "stdout",
     "output_type": "stream",
     "text": [
      "Academic license - for non-commercial use only - expires 2024-03-07\n",
      "Using license file /home/schwartzlab/gurobi.lic\n"
     ]
    }
   ],
   "source": [
    "import numpy as np\n",
    "import pandas as pd\n",
    "import cobra.test\n",
    "import os\n",
    "\n",
    "from os.path import join\n",
    "\n",
    "from time import time\n",
    "\n",
    "\n",
    "from cobra.flux_analysis import (\n",
    "    single_gene_deletion, single_reaction_deletion, double_gene_deletion,\n",
    "    double_reaction_deletion)\n",
    "\n",
    "import cobra\n",
    "from cobra.test import create_test_model\n",
    "cobra_config = cobra.Configuration()\n",
    "cobra_config.solver = \"gurobi\"\n",
    "model = create_test_model(\"textbook\")\n",
    "model.solver\n",
    "\n",
    "a = cobra.io.read_sbml_model(\"iEC1344_C.xml\")\n"
   ]
  },
  {
   "cell_type": "code",
   "execution_count": 2,
   "id": "88548763",
   "metadata": {},
   "outputs": [],
   "source": [
    "csvFile = pd.read_csv('FINAL different reactions glu vs lac 4 decimals.csv')\n",
    "csvFile2 = pd.read_csv(r'/home/schwartzlab/Documents/Anthi-Maria2/-30 to 30 files/FINAL different reactions glu vs lac 4 decimals -30 to 30.csv')\n",
    "\n",
    "\n",
    "D1= pd.DataFrame (csvFile, columns = ['Reaction names'])\n",
    "D2= pd.DataFrame (csvFile2, columns = ['Reaction names'])\n",
    "b= D1.iloc[:, 0]\n",
    "c= D2.iloc[:, 0]\n",
    "\n",
    "union = pd.Series(np.union1d(b, c))\n",
    "intersect = pd.Series(np.intersect1d(b, c))\n"
   ]
  },
  {
   "cell_type": "code",
   "execution_count": 4,
   "id": "65fca9dc",
   "metadata": {
    "scrolled": true
   },
   "outputs": [],
   "source": [
    "intersect.to_csv(\"Reactions that differ between glu and lac for both -1000 to 1000 and -30 to 30.csv\")\n"
   ]
  },
  {
   "cell_type": "code",
   "execution_count": null,
   "id": "24593072",
   "metadata": {},
   "outputs": [],
   "source": []
  }
 ],
 "metadata": {
  "kernelspec": {
   "display_name": "Python 3",
   "language": "python",
   "name": "python3"
  },
  "language_info": {
   "codemirror_mode": {
    "name": "ipython",
    "version": 3
   },
   "file_extension": ".py",
   "mimetype": "text/x-python",
   "name": "python",
   "nbconvert_exporter": "python",
   "pygments_lexer": "ipython3",
   "version": "3.8.3"
  }
 },
 "nbformat": 4,
 "nbformat_minor": 5
}
